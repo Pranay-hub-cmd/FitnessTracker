{
 "cells": [
  {
   "cell_type": "code",
   "execution_count": null,
   "metadata": {},
   "outputs": [],
   "source": []
  },
  {
   "cell_type": "code",
   "execution_count": 16,
   "metadata": {},
   "outputs": [],
   "source": [
    "import numpy as np\n",
    "import matplotlib.pyplot as plt\n",
    "import pandas as pd\n",
    "from sklearn.model_selection import train_test_split , GridSearchCV\n",
    "from sklearn.metrics import mean_squared_error\n",
    "from sklearn.preprocessing import StandardScaler\n",
    "from sklearn.linear_model import LinearRegression\n",
    "from sklearn.ensemble import RandomForestRegressor\n",
    "from sklearn import metrics\n",
    " \n",
    "\n",
    "from IPython.display import HTML\n",
    "import plotly.express as px\n",
    "\n",
    "import warnings\n",
    "warnings.filterwarnings('ignore')\n",
    "\n",
    "\n"
   ]
  },
  {
   "cell_type": "code",
   "execution_count": 17,
   "metadata": {},
   "outputs": [],
   "source": [
    "import seaborn as sns\n"
   ]
  },
  {
   "cell_type": "code",
   "execution_count": 18,
   "metadata": {},
   "outputs": [],
   "source": [
    "# from google.colab import files\n",
    "# frist_data = files.upload()\n",
    "# second_data = files.upload()"
   ]
  },
  {
   "cell_type": "code",
   "execution_count": 24,
   "metadata": {},
   "outputs": [],
   "source": [
    "calories = pd.read_csv(\"calories.csv\")\n",
    "exercise = pd.read_csv(\"exercise.csv\")\n"
   ]
  },
  {
   "cell_type": "code",
   "execution_count": 25,
   "metadata": {},
   "outputs": [
    {
     "data": {
      "text/html": [
       "<div>\n",
       "<style scoped>\n",
       "    .dataframe tbody tr th:only-of-type {\n",
       "        vertical-align: middle;\n",
       "    }\n",
       "\n",
       "    .dataframe tbody tr th {\n",
       "        vertical-align: top;\n",
       "    }\n",
       "\n",
       "    .dataframe thead th {\n",
       "        text-align: right;\n",
       "    }\n",
       "</style>\n",
       "<table border=\"1\" class=\"dataframe\">\n",
       "  <thead>\n",
       "    <tr style=\"text-align: right;\">\n",
       "      <th></th>\n",
       "      <th>user_ID</th>\n",
       "      <th>calories</th>\n",
       "    </tr>\n",
       "  </thead>\n",
       "  <tbody>\n",
       "    <tr>\n",
       "      <th>0</th>\n",
       "      <td>1</td>\n",
       "      <td>250</td>\n",
       "    </tr>\n",
       "    <tr>\n",
       "      <th>1</th>\n",
       "      <td>2</td>\n",
       "      <td>300</td>\n",
       "    </tr>\n",
       "    <tr>\n",
       "      <th>2</th>\n",
       "      <td>3</td>\n",
       "      <td>280</td>\n",
       "    </tr>\n",
       "    <tr>\n",
       "      <th>3</th>\n",
       "      <td>4</td>\n",
       "      <td>400</td>\n",
       "    </tr>\n",
       "    <tr>\n",
       "      <th>4</th>\n",
       "      <td>5</td>\n",
       "      <td>350</td>\n",
       "    </tr>\n",
       "  </tbody>\n",
       "</table>\n",
       "</div>"
      ],
      "text/plain": [
       "   user_ID  calories\n",
       "0        1       250\n",
       "1        2       300\n",
       "2        3       280\n",
       "3        4       400\n",
       "4        5       350"
      ]
     },
     "execution_count": 25,
     "metadata": {},
     "output_type": "execute_result"
    }
   ],
   "source": [
    "calories.head()"
   ]
  },
  {
   "cell_type": "code",
   "execution_count": 26,
   "metadata": {},
   "outputs": [
    {
     "data": {
      "text/html": [
       "<div>\n",
       "<style scoped>\n",
       "    .dataframe tbody tr th:only-of-type {\n",
       "        vertical-align: middle;\n",
       "    }\n",
       "\n",
       "    .dataframe tbody tr th {\n",
       "        vertical-align: top;\n",
       "    }\n",
       "\n",
       "    .dataframe thead th {\n",
       "        text-align: right;\n",
       "    }\n",
       "</style>\n",
       "<table border=\"1\" class=\"dataframe\">\n",
       "  <thead>\n",
       "    <tr style=\"text-align: right;\">\n",
       "      <th></th>\n",
       "      <th>user_ID</th>\n",
       "      <th>gender</th>\n",
       "      <th>age</th>\n",
       "      <th>height</th>\n",
       "      <th>weight</th>\n",
       "      <th>duration</th>\n",
       "      <th>heart_rate</th>\n",
       "      <th>body_temp</th>\n",
       "    </tr>\n",
       "  </thead>\n",
       "  <tbody>\n",
       "    <tr>\n",
       "      <th>0</th>\n",
       "      <td>1</td>\n",
       "      <td>Male</td>\n",
       "      <td>25</td>\n",
       "      <td>175</td>\n",
       "      <td>70</td>\n",
       "      <td>30</td>\n",
       "      <td>70</td>\n",
       "      <td>36.5</td>\n",
       "    </tr>\n",
       "    <tr>\n",
       "      <th>1</th>\n",
       "      <td>2</td>\n",
       "      <td>Female</td>\n",
       "      <td>30</td>\n",
       "      <td>160</td>\n",
       "      <td>55</td>\n",
       "      <td>45</td>\n",
       "      <td>143</td>\n",
       "      <td>37.9</td>\n",
       "    </tr>\n",
       "    <tr>\n",
       "      <th>2</th>\n",
       "      <td>3</td>\n",
       "      <td>Male</td>\n",
       "      <td>22</td>\n",
       "      <td>180</td>\n",
       "      <td>80</td>\n",
       "      <td>20</td>\n",
       "      <td>131</td>\n",
       "      <td>36.9</td>\n",
       "    </tr>\n",
       "    <tr>\n",
       "      <th>3</th>\n",
       "      <td>4</td>\n",
       "      <td>Female</td>\n",
       "      <td>35</td>\n",
       "      <td>165</td>\n",
       "      <td>60</td>\n",
       "      <td>60</td>\n",
       "      <td>98</td>\n",
       "      <td>38.4</td>\n",
       "    </tr>\n",
       "    <tr>\n",
       "      <th>4</th>\n",
       "      <td>5</td>\n",
       "      <td>Male</td>\n",
       "      <td>40</td>\n",
       "      <td>170</td>\n",
       "      <td>75</td>\n",
       "      <td>50</td>\n",
       "      <td>84</td>\n",
       "      <td>36.6</td>\n",
       "    </tr>\n",
       "  </tbody>\n",
       "</table>\n",
       "</div>"
      ],
      "text/plain": [
       "   user_ID  gender  age  height  weight  duration  heart_rate  body_temp\n",
       "0        1    Male   25     175      70        30          70       36.5\n",
       "1        2  Female   30     160      55        45         143       37.9\n",
       "2        3    Male   22     180      80        20         131       36.9\n",
       "3        4  Female   35     165      60        60          98       38.4\n",
       "4        5    Male   40     170      75        50          84       36.6"
      ]
     },
     "execution_count": 26,
     "metadata": {},
     "output_type": "execute_result"
    }
   ],
   "source": [
    "exercise.head()"
   ]
  },
  {
   "cell_type": "code",
   "execution_count": 27,
   "metadata": {},
   "outputs": [
    {
     "data": {
      "text/html": [
       "<div>\n",
       "<style scoped>\n",
       "    .dataframe tbody tr th:only-of-type {\n",
       "        vertical-align: middle;\n",
       "    }\n",
       "\n",
       "    .dataframe tbody tr th {\n",
       "        vertical-align: top;\n",
       "    }\n",
       "\n",
       "    .dataframe thead th {\n",
       "        text-align: right;\n",
       "    }\n",
       "</style>\n",
       "<table border=\"1\" class=\"dataframe\">\n",
       "  <thead>\n",
       "    <tr style=\"text-align: right;\">\n",
       "      <th></th>\n",
       "      <th>user_ID</th>\n",
       "      <th>gender</th>\n",
       "      <th>age</th>\n",
       "      <th>height</th>\n",
       "      <th>weight</th>\n",
       "      <th>duration</th>\n",
       "      <th>heart_rate</th>\n",
       "      <th>body_temp</th>\n",
       "      <th>calories</th>\n",
       "    </tr>\n",
       "  </thead>\n",
       "  <tbody>\n",
       "    <tr>\n",
       "      <th>0</th>\n",
       "      <td>1</td>\n",
       "      <td>Male</td>\n",
       "      <td>25</td>\n",
       "      <td>175</td>\n",
       "      <td>70</td>\n",
       "      <td>30</td>\n",
       "      <td>70</td>\n",
       "      <td>36.5</td>\n",
       "      <td>250</td>\n",
       "    </tr>\n",
       "    <tr>\n",
       "      <th>1</th>\n",
       "      <td>2</td>\n",
       "      <td>Female</td>\n",
       "      <td>30</td>\n",
       "      <td>160</td>\n",
       "      <td>55</td>\n",
       "      <td>45</td>\n",
       "      <td>143</td>\n",
       "      <td>37.9</td>\n",
       "      <td>300</td>\n",
       "    </tr>\n",
       "    <tr>\n",
       "      <th>2</th>\n",
       "      <td>3</td>\n",
       "      <td>Male</td>\n",
       "      <td>22</td>\n",
       "      <td>180</td>\n",
       "      <td>80</td>\n",
       "      <td>20</td>\n",
       "      <td>131</td>\n",
       "      <td>36.9</td>\n",
       "      <td>280</td>\n",
       "    </tr>\n",
       "    <tr>\n",
       "      <th>3</th>\n",
       "      <td>4</td>\n",
       "      <td>Female</td>\n",
       "      <td>35</td>\n",
       "      <td>165</td>\n",
       "      <td>60</td>\n",
       "      <td>60</td>\n",
       "      <td>98</td>\n",
       "      <td>38.4</td>\n",
       "      <td>400</td>\n",
       "    </tr>\n",
       "    <tr>\n",
       "      <th>4</th>\n",
       "      <td>5</td>\n",
       "      <td>Male</td>\n",
       "      <td>40</td>\n",
       "      <td>170</td>\n",
       "      <td>75</td>\n",
       "      <td>50</td>\n",
       "      <td>84</td>\n",
       "      <td>36.6</td>\n",
       "      <td>350</td>\n",
       "    </tr>\n",
       "  </tbody>\n",
       "</table>\n",
       "</div>"
      ],
      "text/plain": [
       "   user_ID  gender  age  height  weight  duration  heart_rate  body_temp  \\\n",
       "0        1    Male   25     175      70        30          70       36.5   \n",
       "1        2  Female   30     160      55        45         143       37.9   \n",
       "2        3    Male   22     180      80        20         131       36.9   \n",
       "3        4  Female   35     165      60        60          98       38.4   \n",
       "4        5    Male   40     170      75        50          84       36.6   \n",
       "\n",
       "   calories  \n",
       "0       250  \n",
       "1       300  \n",
       "2       280  \n",
       "3       400  \n",
       "4       350  "
      ]
     },
     "execution_count": 27,
     "metadata": {},
     "output_type": "execute_result"
    }
   ],
   "source": [
    "exercise_df = exercise.merge(calories, on=\"user_ID\")\n",
    "exercise_df.head()"
   ]
  },
  {
   "cell_type": "code",
   "execution_count": 28,
   "metadata": {},
   "outputs": [
    {
     "name": "stdout",
     "output_type": "stream",
     "text": [
      "this dataset has 10 instance and  9 columns\n"
     ]
    }
   ],
   "source": [
    "print(\"this dataset has\",exercise_df.shape[0],\"instance and \",exercise_df.shape[1],\"columns\")"
   ]
  },
  {
   "cell_type": "code",
   "execution_count": 29,
   "metadata": {},
   "outputs": [
    {
     "data": {
      "text/plain": [
       "Index(['user_ID', 'gender', 'age', 'height', 'weight', 'duration',\n",
       "       'heart_rate', 'body_temp', 'calories'],\n",
       "      dtype='object')"
      ]
     },
     "execution_count": 29,
     "metadata": {},
     "output_type": "execute_result"
    }
   ],
   "source": [
    "exercise_df.columns"
   ]
  },
  {
   "cell_type": "code",
   "execution_count": 30,
   "metadata": {},
   "outputs": [
    {
     "name": "stdout",
     "output_type": "stream",
     "text": [
      "columns : \n",
      "/t 1 . user_ID\n",
      "/t 2 . gender\n",
      "/t 3 . age\n",
      "/t 4 . height\n",
      "/t 5 . weight\n",
      "/t 6 . duration\n",
      "/t 7 . heart_rate\n",
      "/t 8 . body_temp\n",
      "/t 9 . calories\n"
     ]
    }
   ],
   "source": [
    "print(\"columns : \")\n",
    "for i , column in zip(range(len(exercise_df)),exercise_df.columns):\n",
    "    print(\"/t\",i+1 , \".\" , column)\n",
    "    "
   ]
  },
  {
   "cell_type": "code",
   "execution_count": 31,
   "metadata": {},
   "outputs": [
    {
     "data": {
      "text/html": [
       "<div>\n",
       "<style scoped>\n",
       "    .dataframe tbody tr th:only-of-type {\n",
       "        vertical-align: middle;\n",
       "    }\n",
       "\n",
       "    .dataframe tbody tr th {\n",
       "        vertical-align: top;\n",
       "    }\n",
       "\n",
       "    .dataframe thead th {\n",
       "        text-align: right;\n",
       "    }\n",
       "</style>\n",
       "<table border=\"1\" class=\"dataframe\">\n",
       "  <thead>\n",
       "    <tr style=\"text-align: right;\">\n",
       "      <th></th>\n",
       "      <th>user_ID</th>\n",
       "      <th>age</th>\n",
       "      <th>height</th>\n",
       "      <th>weight</th>\n",
       "      <th>duration</th>\n",
       "      <th>heart_rate</th>\n",
       "      <th>body_temp</th>\n",
       "      <th>calories</th>\n",
       "    </tr>\n",
       "  </thead>\n",
       "  <tbody>\n",
       "    <tr>\n",
       "      <th>count</th>\n",
       "      <td>10.00000</td>\n",
       "      <td>10.000000</td>\n",
       "      <td>10.000000</td>\n",
       "      <td>10.000000</td>\n",
       "      <td>10.000000</td>\n",
       "      <td>10.000000</td>\n",
       "      <td>10.000000</td>\n",
       "      <td>10.000000</td>\n",
       "    </tr>\n",
       "    <tr>\n",
       "      <th>mean</th>\n",
       "      <td>5.50000</td>\n",
       "      <td>31.300000</td>\n",
       "      <td>169.700000</td>\n",
       "      <td>67.600000</td>\n",
       "      <td>39.000000</td>\n",
       "      <td>112.800000</td>\n",
       "      <td>37.270000</td>\n",
       "      <td>341.500000</td>\n",
       "    </tr>\n",
       "    <tr>\n",
       "      <th>std</th>\n",
       "      <td>3.02765</td>\n",
       "      <td>6.992853</td>\n",
       "      <td>8.654479</td>\n",
       "      <td>14.338759</td>\n",
       "      <td>13.291601</td>\n",
       "      <td>28.797376</td>\n",
       "      <td>0.742443</td>\n",
       "      <td>82.867029</td>\n",
       "    </tr>\n",
       "    <tr>\n",
       "      <th>min</th>\n",
       "      <td>1.00000</td>\n",
       "      <td>22.000000</td>\n",
       "      <td>158.000000</td>\n",
       "      <td>50.000000</td>\n",
       "      <td>20.000000</td>\n",
       "      <td>70.000000</td>\n",
       "      <td>36.300000</td>\n",
       "      <td>250.000000</td>\n",
       "    </tr>\n",
       "    <tr>\n",
       "      <th>25%</th>\n",
       "      <td>3.25000</td>\n",
       "      <td>27.250000</td>\n",
       "      <td>162.750000</td>\n",
       "      <td>55.750000</td>\n",
       "      <td>30.000000</td>\n",
       "      <td>88.250000</td>\n",
       "      <td>36.675000</td>\n",
       "      <td>282.500000</td>\n",
       "    </tr>\n",
       "    <tr>\n",
       "      <th>50%</th>\n",
       "      <td>5.50000</td>\n",
       "      <td>29.500000</td>\n",
       "      <td>168.500000</td>\n",
       "      <td>65.000000</td>\n",
       "      <td>37.500000</td>\n",
       "      <td>110.000000</td>\n",
       "      <td>37.050000</td>\n",
       "      <td>310.000000</td>\n",
       "    </tr>\n",
       "    <tr>\n",
       "      <th>75%</th>\n",
       "      <td>7.75000</td>\n",
       "      <td>34.250000</td>\n",
       "      <td>177.250000</td>\n",
       "      <td>78.750000</td>\n",
       "      <td>48.750000</td>\n",
       "      <td>140.000000</td>\n",
       "      <td>37.975000</td>\n",
       "      <td>387.500000</td>\n",
       "    </tr>\n",
       "    <tr>\n",
       "      <th>max</th>\n",
       "      <td>10.00000</td>\n",
       "      <td>45.000000</td>\n",
       "      <td>182.000000</td>\n",
       "      <td>90.000000</td>\n",
       "      <td>60.000000</td>\n",
       "      <td>149.000000</td>\n",
       "      <td>38.400000</td>\n",
       "      <td>500.000000</td>\n",
       "    </tr>\n",
       "  </tbody>\n",
       "</table>\n",
       "</div>"
      ],
      "text/plain": [
       "        user_ID        age      height     weight   duration  heart_rate  \\\n",
       "count  10.00000  10.000000   10.000000  10.000000  10.000000   10.000000   \n",
       "mean    5.50000  31.300000  169.700000  67.600000  39.000000  112.800000   \n",
       "std     3.02765   6.992853    8.654479  14.338759  13.291601   28.797376   \n",
       "min     1.00000  22.000000  158.000000  50.000000  20.000000   70.000000   \n",
       "25%     3.25000  27.250000  162.750000  55.750000  30.000000   88.250000   \n",
       "50%     5.50000  29.500000  168.500000  65.000000  37.500000  110.000000   \n",
       "75%     7.75000  34.250000  177.250000  78.750000  48.750000  140.000000   \n",
       "max    10.00000  45.000000  182.000000  90.000000  60.000000  149.000000   \n",
       "\n",
       "       body_temp    calories  \n",
       "count  10.000000   10.000000  \n",
       "mean   37.270000  341.500000  \n",
       "std     0.742443   82.867029  \n",
       "min    36.300000  250.000000  \n",
       "25%    36.675000  282.500000  \n",
       "50%    37.050000  310.000000  \n",
       "75%    37.975000  387.500000  \n",
       "max    38.400000  500.000000  "
      ]
     },
     "execution_count": 31,
     "metadata": {},
     "output_type": "execute_result"
    }
   ],
   "source": [
    "exercise_df.describe()"
   ]
  },
  {
   "cell_type": "code",
   "execution_count": 32,
   "metadata": {},
   "outputs": [
    {
     "data": {
      "image/png": "[encoded data removed]",
      "text/plain": [
       "<Figure size 1000x2000 with 9 Axes>"
      ]
     },
     "metadata": {},
     "output_type": "display_data"
    }
   ],
   "source": [
    "c=['b','g','r','c','m','y','k','w','b']\n",
    "fig1 , axes = plt.subplots(len(exercise_df.columns), 1 , figsize = (10,20))\n",
    "plt.subplots_adjust(wspace = 0.3 , hspace = 0.7)\n",
    "axes = axes.flatten()\n",
    "for i , column in zip(range(len(exercise_df.columns)),exercise_df.columns):\n",
    "    try:\n",
    "        sns.boxplot(data = exercise_df , x = column ,color = c[i],ax = axes[i])\n",
    "    except:\n",
    "        fig1.delaxes(axes[i])\n",
    "        continue    "
   ]
  },
  {
   "cell_type": "code",
   "execution_count": 33,
   "metadata": {},
   "outputs": [
    {
     "name": "stdout",
     "output_type": "stream",
     "text": [
      "<class 'pandas.core.frame.DataFrame'>\n",
      "RangeIndex: 10 entries, 0 to 9\n",
      "Data columns (total 9 columns):\n",
      " #   Column      Non-Null Count  Dtype  \n",
      "---  ------      --------------  -----  \n",
      " 0   user_ID     10 non-null     int64  \n",
      " 1   gender      10 non-null     object \n",
      " 2   age         10 non-null     int64  \n",
      " 3   height      10 non-null     int64  \n",
      " 4   weight      10 non-null     int64  \n",
      " 5   duration    10 non-null     int64  \n",
      " 6   heart_rate  10 non-null     int64  \n",
      " 7   body_temp   10 non-null     float64\n",
      " 8   calories    10 non-null     int64  \n",
      "dtypes: float64(1), int64(7), object(1)\n",
      "memory usage: 852.0+ bytes\n"
     ]
    }
   ],
   "source": [
    "exercise_df.info()"
   ]
  },
  {
   "cell_type": "code",
   "execution_count": 34,
   "metadata": {},
   "outputs": [
    {
     "data": {
      "text/plain": [
       "<Axes: >"
      ]
     },
     "execution_count": 34,
     "metadata": {},
     "output_type": "execute_result"
    },
    {
     "data": {
      "image/png": "[encoded data removed]",
      "text/plain": [
       "<Figure size 640x480 with 1 Axes>"
      ]
     },
     "metadata": {},
     "output_type": "display_data"
    }
   ],
   "source": [
    "sns.heatmap(exercise_df.isnull(), yticklabels = False , cbar=False,cmap=\"viridis\" )"
   ]
  },
  {
   "cell_type": "code",
   "execution_count": null,
   "metadata": {},
   "outputs": [],
   "source": []
  }
 ],
 "metadata": {
  "kernelspec": {
   "display_name": "venv",
   "language": "python",
   "name": "python3"
  },
  "language_info": {
   "codemirror_mode": {
    "name": "ipython",
    "version": 3
   },
   "file_extension": ".py",
   "mimetype": "text/x-python",
   "name": "python",
   "nbconvert_exporter": "python",
   "pygments_lexer": "ipython3",
   "version": "3.13.2"
  }
 },
 "nbformat": 4,
 "nbformat_minor": 2
}
